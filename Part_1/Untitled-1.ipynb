{
 "cells": [
  {
   "cell_type": "markdown",
   "id": "64e5cacb",
   "metadata": {},
   "source": [
    "REMARKS"
   ]
  },
  {
   "cell_type": "markdown",
   "id": "5d7d26cf",
   "metadata": {},
   "source": [
    "Make Sure that ypu read all the chats of GPT so that we Do Not miss anything imp such as optional but plus marks will be given kind of thing!!!"
   ]
  },
  {
   "cell_type": "code",
   "execution_count": null,
   "id": "3d81b666",
   "metadata": {},
   "outputs": [],
   "source": [
    "# -----------------------------------------------\n",
    "# Step 1: Install the necessary libraries\n",
    "\n",
    "# -----------------------------------------------\n",
    "# Step 2: Confirm if all the libraries have been installed\n",
    "\n",
    "# -----------------------------------------------\n",
    "# Step 3: Creating a yaml file since we are using the YOLOv8 whichexpects a YAML config file\n",
    " \n",
    "# -----------------------------------------------\n",
    "# Step 4: Make sure your processing is done on GPU and not on CPU\n",
    "# To check for the same:-\n",
    "# Step 4.1: Remove CPU-only PyTorch from your venv:\n",
    "#           pip uninstall torch torchvision torchaudio -y\n",
    "# Step 4.2: Install the correct CUDA build of PyTorch (for CUDA 12.1+, works fine with your 12.8 driver):\n",
    "#           pip install torch torchvision torchaudio --index-url https://download.pytorch.org/whl/cu121\n",
    "# Step 4.3: Verify that PyTorch is using the GPU:\n",
    "#           python -c \"import torch; print(torch.cuda.is_available()); print(torch.cuda.get_device_name(0) if torch.cuda.is_available() else 'No GPU')\"\n",
    "# Output should be:\n",
    "# True\n",
    "# NVIDIA GeForce RTX 3050 ...\n",
    "# Step 4.4: Check YOLO now sees GPU:\n",
    "#           yolo checks\n",
    "# Output should be:\n",
    "# GPU: NVIDIA GeForce RTX 3050\n",
    "# CUDA: 12.x\n",
    "\n",
    "\n",
    "# -----------------------------------------------\n",
    "# Step 5: Train the YOLO Model \n",
    "# On your Terminal, run the following command:\n",
    "# yolo detect train data=gloves.yaml model=yolov8n.pt epochs=50 imgsz=640\n",
    "\n",
    "# Step 1: Install the necessary libraries# -----------------------------------------------\n",
    "# Step 1: Install the necessary libraries# -----------------------------------------------\n",
    "# Step 1: Install the necessary libraries# -----------------------------------------------\n",
    "# Step 1: Install the necessary libraries# -----------------------------------------------\n",
    "# Step 1: Install the necessary libraries# -----------------------------------------------\n",
    "# Step 1: Install the necessary libraries# -----------------------------------------------\n",
    "# Step 1: Install the necessary libraries# -----------------------------------------------\n",
    "# Step 1: Install the necessary libraries# -----------------------------------------------\n",
    "# Step 1: Install the necessary libraries# -----------------------------------------------\n",
    "# Step 1: Install the necessary libraries# -----------------------------------------------\n",
    "# Step 1: Install the necessary libraries# -----------------------------------------------\n",
    "# Step 1: Install the necessary libraries\n",
    "\n",
    "# -------------------------------------------------\n",
    "# Step Second Last: Let users run the script like this:\n",
    "# python detection_script.py --input data/images --output results/ --confidence 0.6\n",
    "# Ask Pandey for the same\n",
    "# -----------------------------------------------\n",
    "# Step Last: pip freeze > requirements.txt# \n",
    "# This will create a requirements.txt file with all the installed packages and their versions.\n",
    "# You can then use this file to recreate the environment later by running:\n",
    "# pip install -r requirements.txt"
   ]
  },
  {
   "cell_type": "code",
   "execution_count": null,
   "id": "7db00c1e",
   "metadata": {},
   "outputs": [],
   "source": [
    "yolo detect train data=gloves.yaml model=yolov8n.pt epochs=50 imgsz=640"
   ]
  },
  {
   "cell_type": "code",
   "execution_count": null,
   "id": "98982543",
   "metadata": {},
   "outputs": [],
   "source": []
  }
 ],
 "metadata": {
  "kernelspec": {
   "display_name": ".task_venv",
   "language": "python",
   "name": "python3"
  },
  "language_info": {
   "codemirror_mode": {
    "name": "ipython",
    "version": 3
   },
   "file_extension": ".py",
   "mimetype": "text/x-python",
   "name": "python",
   "nbconvert_exporter": "python",
   "pygments_lexer": "ipython3",
   "version": "3.10.2"
  }
 },
 "nbformat": 4,
 "nbformat_minor": 5
}
