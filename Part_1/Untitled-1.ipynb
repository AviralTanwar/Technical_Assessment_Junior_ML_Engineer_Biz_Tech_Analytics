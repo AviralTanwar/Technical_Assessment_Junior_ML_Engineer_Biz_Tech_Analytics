{
 "cells": [
  {
   "cell_type": "markdown",
   "id": "64e5cacb",
   "metadata": {},
   "source": [
    "REMARKS"
   ]
  },
  {
   "cell_type": "markdown",
   "id": "5d7d26cf",
   "metadata": {},
   "source": [
    "Make Sure that ypu read all the chats of GPT so that we Do Not miss anything imp such as optional but plus marks will be given kind of thing!!!"
   ]
  },
  {
   "cell_type": "code",
   "execution_count": null,
   "id": "3d81b666",
   "metadata": {},
   "outputs": [],
   "source": [
    "# -----------------------------------------------\n",
    "# Step 1: Install the necessary libraries\n",
    "\n",
    "# -----------------------------------------------\n",
    "# Step 2: Confirm if all the libraries have been installed\n",
    "\n",
    "# -----------------------------------------------\n",
    "# Step 3: Creating a yaml file since we are using the YOLOv8 whichexpects a YAML config file\n",
    " \n",
    "# -----------------------------------------------\n",
    "# Step 4: Train the YOLO Model\n",
    "\n",
    "# -----------------------------------------------\n",
    "# Step 1: Install the necessary libraries# -----------------------------------------------\n",
    "# Step 1: Install the necessary libraries# -----------------------------------------------\n",
    "# Step 1: Install the necessary libraries# -----------------------------------------------\n",
    "# Step 1: Install the necessary libraries# -----------------------------------------------\n",
    "# Step 1: Install the necessary libraries# -----------------------------------------------\n",
    "# Step 1: Install the necessary libraries# -----------------------------------------------\n",
    "# Step 1: Install the necessary libraries# -----------------------------------------------\n",
    "# Step 1: Install the necessary libraries# -----------------------------------------------\n",
    "# Step 1: Install the necessary libraries# -----------------------------------------------\n",
    "# Step 1: Install the necessary libraries# -----------------------------------------------\n",
    "# Step 1: Install the necessary libraries# -----------------------------------------------\n",
    "# Step 1: Install the necessary libraries# -----------------------------------------------\n",
    "# Step 1: Install the necessary libraries\n",
    "\n",
    "# -------------------------------------------------\n",
    "# Step Second Last: Let users run the script like this:\n",
    "# python detection_script.py --input data/images --output results/ --confidence 0.6\n",
    "# Ask Pandey for the same\n",
    "# -----------------------------------------------\n",
    "# Step Last: pip freeze > requirements.txt# \n",
    "# This will create a requirements.txt file with all the installed packages and their versions.\n",
    "# You can then use this file to recreate the environment later by running:\n",
    "# pip install -r requirements.txt"
   ]
  },
  {
   "cell_type": "code",
   "execution_count": 2,
   "id": "7db00c1e",
   "metadata": {},
   "outputs": [
    {
     "ename": "SyntaxError",
     "evalue": "invalid syntax (3140717167.py, line 1)",
     "output_type": "error",
     "traceback": [
      "\u001b[1;36m  Cell \u001b[1;32mIn[2], line 1\u001b[1;36m\u001b[0m\n\u001b[1;33m    yolo detect train data=gloves.yaml model=yolov8n.pt epochs=50 imgsz=640\u001b[0m\n\u001b[1;37m         ^\u001b[0m\n\u001b[1;31mSyntaxError\u001b[0m\u001b[1;31m:\u001b[0m invalid syntax\n"
     ]
    }
   ],
   "source": [
    "yolo detect train data=gloves.yaml model=yolov8n.pt epochs=50 imgsz=640"
   ]
  },
  {
   "cell_type": "code",
   "execution_count": null,
   "id": "98982543",
   "metadata": {},
   "outputs": [],
   "source": []
  }
 ],
 "metadata": {
  "kernelspec": {
   "display_name": "Python 3",
   "language": "python",
   "name": "python3"
  },
  "language_info": {
   "codemirror_mode": {
    "name": "ipython",
    "version": 3
   },
   "file_extension": ".py",
   "mimetype": "text/x-python",
   "name": "python",
   "nbconvert_exporter": "python",
   "pygments_lexer": "ipython3",
   "version": "3.10.2"
  }
 },
 "nbformat": 4,
 "nbformat_minor": 5
}
