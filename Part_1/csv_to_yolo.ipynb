{
 "cells": [
  {
   "cell_type": "code",
   "execution_count": 1,
   "id": "39c679ef",
   "metadata": {},
   "outputs": [],
   "source": [
    "# --- Cell 1: Imports ---\n",
    "import os\n",
    "import pandas as pd"
   ]
  },
  {
   "cell_type": "code",
   "execution_count": 2,
   "id": "1dbd6806",
   "metadata": {},
   "outputs": [],
   "source": [
    "#  Dataset setup ---\n",
    "\n",
    "# Define the root directory of the dataset\n",
    "dataset_root = r\"C:\\Users\\avira\\Documents\\Restart_Skills_v2025\\GitHub\\Technical_Assessment_Junior_ML_Engineer_Biz_Tech_Analytics\\Dataset\"\n",
    "\n",
    "# The dataset is split into three folders: train, valid, and test\n",
    "splits = [\"train\", \"valid\", \"test\"]"
   ]
  },
  {
   "cell_type": "code",
   "execution_count": 3,
   "id": "964fcc6a",
   "metadata": {},
   "outputs": [],
   "source": [
    "# Convert annotations to YOLO format ---\n",
    "\n",
    "# Iterate through each dataset split (train/valid/test)\n",
    "for split in splits:\n",
    "    # Path to the annotation CSV for the current split\n",
    "    csv_path = os.path.join(dataset_root, split, \"_annotations.csv\")\n",
    "\n",
    "    # Load annotations into a DataFrame\n",
    "    df = pd.read_csv(csv_path)\n",
    "\n",
    "    # Iterate over each row (annotation) in the DataFrame\n",
    "    for _, row in df.iterrows():\n",
    "        # Original image dimensions\n",
    "        img_w, img_h = row['width'], row['height']\n",
    "\n",
    "        # Bounding box coordinates in VOC format (xmin, ymin, xmax, ymax)\n",
    "        xmin, ymin, xmax, ymax = row['xmin'], row['ymin'], row['xmax'], row['ymax']\n",
    "\n",
    "        # --- Convert VOC format to YOLO format ---\n",
    "        # YOLO expects (x_center, y_center, width, height) normalized [0,1]\n",
    "        x_center = ((xmin + xmax) / 2) / img_w\n",
    "        y_center = ((ymin + ymax) / 2) / img_h\n",
    "        width = (xmax - xmin) / img_w\n",
    "        height = (ymax - ymin) / img_h\n",
    "\n",
    "        # --- Class mapping ---\n",
    "        # bare_hand → class 0, gloved_hand → class 1\n",
    "        class_id = 0 if row['class'] == \"bare_hand\" else 1\n",
    "\n",
    "        # --- Save annotations ---\n",
    "        # Each image gets a corresponding .txt file with YOLO labels\n",
    "        img_name = os.path.splitext(row['filename'])[0]\n",
    "        txt_path = os.path.join(dataset_root, split, img_name + \".txt\")\n",
    "\n",
    "        # Append the annotation (one line per bounding box)\n",
    "        with open(txt_path, \"a\") as f:\n",
    "            f.write(f\"{class_id} {x_center} {y_center} {width} {height}\\n\")\n"
   ]
  },
  {
   "cell_type": "code",
   "execution_count": null,
   "id": "a07d698e",
   "metadata": {},
   "outputs": [],
   "source": []
  }
 ],
 "metadata": {
  "kernelspec": {
   "display_name": ".task_venv",
   "language": "python",
   "name": "python3"
  },
  "language_info": {
   "codemirror_mode": {
    "name": "ipython",
    "version": 3
   },
   "file_extension": ".py",
   "mimetype": "text/x-python",
   "name": "python",
   "nbconvert_exporter": "python",
   "pygments_lexer": "ipython3",
   "version": "3.10.2"
  }
 },
 "nbformat": 4,
 "nbformat_minor": 5
}
